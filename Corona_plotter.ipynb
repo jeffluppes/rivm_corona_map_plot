{
 "cells": [
  {
   "cell_type": "markdown",
   "metadata": {},
   "source": [
    "## Corona plotting notebook\n",
    "@jeffluppes (https://github.com/jeffluppes) Mar 17 2020\n",
    "\n",
    "This is nothing more than a quick and dirty script I spent ~~an hour on~~ that does the following:\n",
    "\n",
    "* Downloads a public map of Dutch municipalities (Gemeentes)\n",
    "* Scrapes the RIVM website for data on the daily cases of Covid-19\n",
    "* Does limited cleaning \n",
    "* Stores raw data to your disk as a csv\n",
    "* Merges the public data with the corona data\n",
    "* Plots a pretty graph to show where the cases are\n",
    "* Stores the pretty graph \n",
    "\n",
    "Stay safe people, and pay attention to the instructions by the Government and the RIVM. "
   ]
  },
  {
   "cell_type": "code",
   "execution_count": 50,
   "metadata": {},
   "outputs": [],
   "source": [
    "import pandas as pd\n",
    "import geopandas as gpd\n",
    "import seaborn as sns\n",
    "import os\n",
    "import numpy as np\n",
    "import imageio\n",
    "import requests\n",
    "from bs4 import BeautifulSoup\n",
    "import matplotlib.pyplot as plt\n",
    "from datetime import date"
   ]
  },
  {
   "cell_type": "markdown",
   "metadata": {},
   "source": [
    "## The shortest way to obtain a map of the Netherlands"
   ]
  },
  {
   "cell_type": "code",
   "execution_count": 21,
   "metadata": {},
   "outputs": [],
   "source": [
    "# Retrieve data with municipal boundaries from PDOK\n",
    "geodata_url = 'https://geodata.nationaalgeoregister.nl/cbsgebiedsindelingen/wfs?request=GetFeature&service=WFS&version=2.0.0&typeName=cbs_gemeente_2017_gegeneraliseerd&outputFormat=json'\n",
    "municipal_boundaries = gpd.read_file(geodata_url)"
   ]
  },
  {
   "cell_type": "markdown",
   "metadata": {},
   "source": [
    "## The slightly-longer way to obtain corona data"
   ]
  },
  {
   "cell_type": "code",
   "execution_count": 89,
   "metadata": {},
   "outputs": [],
   "source": [
    "url=\"https://www.rivm.nl/coronavirus-kaart-van-nederland\"\n",
    "\n",
    "# Make a GET request to fetch the raw HTML content\n",
    "html_content = requests.get(url).text\n",
    "\n",
    "# Parse the html content\n",
    "soup = BeautifulSoup(html_content, \"lxml\")\n",
    "\n",
    "# grab the csv data elment\n",
    "csvdata = soup.find(\"div\", {\"id\": \"csvData\"}).text\n",
    "\n",
    "# remove the leading \\n\n",
    "csvdata = csvdata[1:]\n",
    "\n",
    "#store file to disk\n",
    "\n",
    "# this generates a day stamp - e.g. 17 mar 2020\n",
    "today = date.today().strftime(\"%d-%b-%Y\")\n",
    "with open('data/corona_'+today+'.csv','w', encoding='utf-8') as file:\n",
    "    file.write(csvdata)\n",
    "    \n",
    "# this is also the basis for the scraper. I've set this to run on a micro instance on GCP to run every 24hrs at 14:30 "
   ]
  },
  {
   "cell_type": "code",
   "execution_count": 93,
   "metadata": {},
   "outputs": [],
   "source": [
    "def plot_corona(filename):\n",
    "    #read corona data from data frame\n",
    "    corona_df = pd.read_csv(filename, sep=';')\n",
    "    \n",
    "    # delete the columns with negative Gemnr\n",
    "    corona_df = corona_df[(corona_df['Gemnr'] >= 0)]\n",
    "    \n",
    "    date = filename.split('_')[1].split('.')[0]\n",
    "\n",
    "    # delete the columns with negative Gemnr\n",
    "    corona_df = corona_df[(corona_df['Gemnr'] >= 0)]\n",
    "    \n",
    "    # Link data from Statistics Netherlands to geodata\n",
    "    municipal_corona = pd.merge(municipal_boundaries, corona_df,\n",
    "                                   left_on = \"statnaam\", \n",
    "                                   right_on = \"Gemeente\",\n",
    "                                   how = \"outer\")\n",
    "    municipal_corona['Aantal'] = municipal_corona['Aantal'].fillna(0)\n",
    "    \n",
    "    # Create a thematic map\n",
    "    fig, ax = plt.subplots(1, 1, figsize=(16,12))\n",
    "    p = municipal_corona.plot(column='Aantal',\n",
    "                                 cmap = 'Oranges',\n",
    "                                 legend = True,\n",
    "                                 ax=ax,\n",
    "                                 figsize = (16,12),\n",
    "                                 vmax=125,\n",
    "                                 vmin=1)\n",
    "    p.axis('off')\n",
    "    \n",
    "    p.set_title('Relatieve hoeveelheid Coronagevallen per gemeente op {}'.format(date))\n",
    "    \n",
    "    fig.canvas.draw()       # draw the canvas, cache the renderer\n",
    "    image = np.frombuffer(fig.canvas.tostring_rgb(), dtype='uint8')\n",
    "    image  = image.reshape(fig.canvas.get_width_height()[::-1] + (3,))\n",
    "\n",
    "    plt.clf()\n",
    "    return image"
   ]
  },
  {
   "cell_type": "code",
   "execution_count": 94,
   "metadata": {},
   "outputs": [],
   "source": [
    "#obtain list of source files\n",
    "filenames = []\n",
    "\n",
    "for r, d, f in os.walk('data/'):\n",
    "    for file in f:\n",
    "        if \".csv\" in file:\n",
    "            filenames.append(os.path.join(r, file))"
   ]
  },
  {
   "cell_type": "code",
   "execution_count": 95,
   "metadata": {},
   "outputs": [
    {
     "data": {
      "text/plain": [
       "<Figure size 1152x864 with 0 Axes>"
      ]
     },
     "metadata": {},
     "output_type": "display_data"
    },
    {
     "data": {
      "text/plain": [
       "<Figure size 1152x864 with 0 Axes>"
      ]
     },
     "metadata": {},
     "output_type": "display_data"
    },
    {
     "data": {
      "text/plain": [
       "<Figure size 1152x864 with 0 Axes>"
      ]
     },
     "metadata": {},
     "output_type": "display_data"
    },
    {
     "data": {
      "text/plain": [
       "<Figure size 1152x864 with 0 Axes>"
      ]
     },
     "metadata": {},
     "output_type": "display_data"
    }
   ],
   "source": [
    "kwargs_write = {'fps':1.0, 'quantizer':'nq'}\n",
    "imageio.mimsave('./corona_spread_netherlands.gif', [plot_corona(f) for f in filenames], fps=1)"
   ]
  },
  {
   "cell_type": "markdown",
   "metadata": {},
   "source": [
    "That's all folks! You now have the below gif made for you.\n",
    "\n",
    "![](./corona_spread_netherlands.gif)"
   ]
  },
  {
   "cell_type": "code",
   "execution_count": null,
   "metadata": {},
   "outputs": [],
   "source": []
  }
 ],
 "metadata": {
  "kernelspec": {
   "display_name": "Python 3",
   "language": "python",
   "name": "python3"
  },
  "language_info": {
   "codemirror_mode": {
    "name": "ipython",
    "version": 3
   },
   "file_extension": ".py",
   "mimetype": "text/x-python",
   "name": "python",
   "nbconvert_exporter": "python",
   "pygments_lexer": "ipython3",
   "version": "3.7.4"
  }
 },
 "nbformat": 4,
 "nbformat_minor": 4
}
